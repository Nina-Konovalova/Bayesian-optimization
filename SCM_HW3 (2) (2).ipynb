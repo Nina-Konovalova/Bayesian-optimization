{
  "nbformat": 4,
  "nbformat_minor": 0,
  "metadata": {
    "kernelspec": {
      "display_name": "Python 3",
      "language": "python",
      "name": "python3"
    },
    "language_info": {
      "codemirror_mode": {
        "name": "ipython",
        "version": 3
      },
      "file_extension": ".py",
      "mimetype": "text/x-python",
      "name": "python",
      "nbconvert_exporter": "python",
      "pygments_lexer": "ipython3",
      "version": "3.8.3"
    },
    "colab": {
      "name": "SCM HW3.ipynb",
      "provenance": [],
      "toc_visible": true
    }
  },
  "cells": [
    {
      "cell_type": "code",
      "metadata": {
        "id": "VE5jsctmw2PG"
      },
      "source": [
        "import numpy as np\n",
        "import matplotlib.pyplot as plt\n",
        "import pandas as pd\n"
      ],
      "execution_count": 1,
      "outputs": []
    },
    {
      "cell_type": "code",
      "metadata": {
        "id": "ZwkTvEOow2PT"
      },
      "source": [
        "data = pd.read_csv('liquid-crystal_data.csv')\n",
        "data.set_index('Unnamed: 0', inplace=True)"
      ],
      "execution_count": 2,
      "outputs": []
    },
    {
      "cell_type": "markdown",
      "metadata": {
        "id": "TVNgauHPBuGU"
      },
      "source": [
        "### Data"
      ]
    },
    {
      "cell_type": "code",
      "metadata": {
        "id": "WD17JOXWxNU8",
        "outputId": "8d5ef4cd-ae63-463f-8337-0333f5b88c3c",
        "colab": {
          "base_uri": "https://localhost:8080/",
          "height": 487
        }
      },
      "source": [
        "data.head(100)"
      ],
      "execution_count": null,
      "outputs": [
        {
          "output_type": "execute_result",
          "data": {
            "text/html": [
              "<div>\n",
              "<style scoped>\n",
              "    .dataframe tbody tr th:only-of-type {\n",
              "        vertical-align: middle;\n",
              "    }\n",
              "\n",
              "    .dataframe tbody tr th {\n",
              "        vertical-align: top;\n",
              "    }\n",
              "\n",
              "    .dataframe thead th {\n",
              "        text-align: right;\n",
              "    }\n",
              "</style>\n",
              "<table border=\"1\" class=\"dataframe\">\n",
              "  <thead>\n",
              "    <tr style=\"text-align: right;\">\n",
              "      <th></th>\n",
              "      <th>5LC</th>\n",
              "      <th>10LC</th>\n",
              "      <th>particles</th>\n",
              "      <th>5LC_particle</th>\n",
              "      <th>5LC_molecule</th>\n",
              "      <th>10LC_particle</th>\n",
              "      <th>10LC_molecule</th>\n",
              "      <th>N_molecule</th>\n",
              "      <th>Average</th>\n",
              "      <th>Disperse</th>\n",
              "      <th>product</th>\n",
              "      <th>STDEVP</th>\n",
              "      <th>devsq</th>\n",
              "      <th>skew</th>\n",
              "      <th>kurt</th>\n",
              "      <th>Temperature</th>\n",
              "      <th>Target</th>\n",
              "    </tr>\n",
              "    <tr>\n",
              "      <th>Unnamed: 0</th>\n",
              "      <th></th>\n",
              "      <th></th>\n",
              "      <th></th>\n",
              "      <th></th>\n",
              "      <th></th>\n",
              "      <th></th>\n",
              "      <th></th>\n",
              "      <th></th>\n",
              "      <th></th>\n",
              "      <th></th>\n",
              "      <th></th>\n",
              "      <th></th>\n",
              "      <th></th>\n",
              "      <th></th>\n",
              "      <th></th>\n",
              "      <th></th>\n",
              "      <th></th>\n",
              "    </tr>\n",
              "  </thead>\n",
              "  <tbody>\n",
              "    <tr>\n",
              "      <th>0</th>\n",
              "      <td>100</td>\n",
              "      <td>0</td>\n",
              "      <td>32000</td>\n",
              "      <td>32000</td>\n",
              "      <td>6400</td>\n",
              "      <td>0</td>\n",
              "      <td>0</td>\n",
              "      <td>6400</td>\n",
              "      <td>9612.5</td>\n",
              "      <td>1.986755e+08</td>\n",
              "      <td>0.000000e+00</td>\n",
              "      <td>13184.881257</td>\n",
              "      <td>1390728750</td>\n",
              "      <td>1.282111</td>\n",
              "      <td>-0.240628</td>\n",
              "      <td>1.0</td>\n",
              "      <td>0.011573</td>\n",
              "    </tr>\n",
              "    <tr>\n",
              "      <th>1</th>\n",
              "      <td>100</td>\n",
              "      <td>0</td>\n",
              "      <td>32000</td>\n",
              "      <td>32000</td>\n",
              "      <td>6400</td>\n",
              "      <td>0</td>\n",
              "      <td>0</td>\n",
              "      <td>6400</td>\n",
              "      <td>9612.5</td>\n",
              "      <td>1.986755e+08</td>\n",
              "      <td>0.000000e+00</td>\n",
              "      <td>13184.881257</td>\n",
              "      <td>1390728750</td>\n",
              "      <td>1.282111</td>\n",
              "      <td>-0.240628</td>\n",
              "      <td>0.9</td>\n",
              "      <td>0.012100</td>\n",
              "    </tr>\n",
              "    <tr>\n",
              "      <th>2</th>\n",
              "      <td>100</td>\n",
              "      <td>0</td>\n",
              "      <td>32000</td>\n",
              "      <td>32000</td>\n",
              "      <td>6400</td>\n",
              "      <td>0</td>\n",
              "      <td>0</td>\n",
              "      <td>6400</td>\n",
              "      <td>9612.5</td>\n",
              "      <td>1.986755e+08</td>\n",
              "      <td>0.000000e+00</td>\n",
              "      <td>13184.881257</td>\n",
              "      <td>1390728750</td>\n",
              "      <td>1.282111</td>\n",
              "      <td>-0.240628</td>\n",
              "      <td>0.8</td>\n",
              "      <td>0.011733</td>\n",
              "    </tr>\n",
              "    <tr>\n",
              "      <th>3</th>\n",
              "      <td>100</td>\n",
              "      <td>0</td>\n",
              "      <td>32000</td>\n",
              "      <td>32000</td>\n",
              "      <td>6400</td>\n",
              "      <td>0</td>\n",
              "      <td>0</td>\n",
              "      <td>6400</td>\n",
              "      <td>9612.5</td>\n",
              "      <td>1.986755e+08</td>\n",
              "      <td>0.000000e+00</td>\n",
              "      <td>13184.881257</td>\n",
              "      <td>1390728750</td>\n",
              "      <td>1.282111</td>\n",
              "      <td>-0.240628</td>\n",
              "      <td>0.7</td>\n",
              "      <td>0.011687</td>\n",
              "    </tr>\n",
              "    <tr>\n",
              "      <th>4</th>\n",
              "      <td>100</td>\n",
              "      <td>0</td>\n",
              "      <td>32000</td>\n",
              "      <td>32000</td>\n",
              "      <td>6400</td>\n",
              "      <td>0</td>\n",
              "      <td>0</td>\n",
              "      <td>6400</td>\n",
              "      <td>9612.5</td>\n",
              "      <td>1.986755e+08</td>\n",
              "      <td>0.000000e+00</td>\n",
              "      <td>13184.881257</td>\n",
              "      <td>1390728750</td>\n",
              "      <td>1.282111</td>\n",
              "      <td>-0.240628</td>\n",
              "      <td>0.6</td>\n",
              "      <td>0.012401</td>\n",
              "    </tr>\n",
              "    <tr>\n",
              "      <th>...</th>\n",
              "      <td>...</td>\n",
              "      <td>...</td>\n",
              "      <td>...</td>\n",
              "      <td>...</td>\n",
              "      <td>...</td>\n",
              "      <td>...</td>\n",
              "      <td>...</td>\n",
              "      <td>...</td>\n",
              "      <td>...</td>\n",
              "      <td>...</td>\n",
              "      <td>...</td>\n",
              "      <td>...</td>\n",
              "      <td>...</td>\n",
              "      <td>...</td>\n",
              "      <td>...</td>\n",
              "      <td>...</td>\n",
              "      <td>...</td>\n",
              "    </tr>\n",
              "    <tr>\n",
              "      <th>113</th>\n",
              "      <td>45</td>\n",
              "      <td>55</td>\n",
              "      <td>32000</td>\n",
              "      <td>14400</td>\n",
              "      <td>2880</td>\n",
              "      <td>17600</td>\n",
              "      <td>1760</td>\n",
              "      <td>4640</td>\n",
              "      <td>9172.5</td>\n",
              "      <td>1.287098e+08</td>\n",
              "      <td>4.720886e+26</td>\n",
              "      <td>10612.307713</td>\n",
              "      <td>900968600</td>\n",
              "      <td>1.352543</td>\n",
              "      <td>1.230013</td>\n",
              "      <td>0.7</td>\n",
              "      <td>0.020089</td>\n",
              "    </tr>\n",
              "    <tr>\n",
              "      <th>114</th>\n",
              "      <td>45</td>\n",
              "      <td>55</td>\n",
              "      <td>32000</td>\n",
              "      <td>14400</td>\n",
              "      <td>2880</td>\n",
              "      <td>17600</td>\n",
              "      <td>1760</td>\n",
              "      <td>4640</td>\n",
              "      <td>9172.5</td>\n",
              "      <td>1.287098e+08</td>\n",
              "      <td>4.720886e+26</td>\n",
              "      <td>10612.307713</td>\n",
              "      <td>900968600</td>\n",
              "      <td>1.352543</td>\n",
              "      <td>1.230013</td>\n",
              "      <td>0.6</td>\n",
              "      <td>0.033490</td>\n",
              "    </tr>\n",
              "    <tr>\n",
              "      <th>115</th>\n",
              "      <td>45</td>\n",
              "      <td>55</td>\n",
              "      <td>32000</td>\n",
              "      <td>14400</td>\n",
              "      <td>2880</td>\n",
              "      <td>17600</td>\n",
              "      <td>1760</td>\n",
              "      <td>4640</td>\n",
              "      <td>9172.5</td>\n",
              "      <td>1.287098e+08</td>\n",
              "      <td>4.720886e+26</td>\n",
              "      <td>10612.307713</td>\n",
              "      <td>900968600</td>\n",
              "      <td>1.352543</td>\n",
              "      <td>1.230013</td>\n",
              "      <td>0.5</td>\n",
              "      <td>0.038378</td>\n",
              "    </tr>\n",
              "    <tr>\n",
              "      <th>116</th>\n",
              "      <td>45</td>\n",
              "      <td>55</td>\n",
              "      <td>32000</td>\n",
              "      <td>14400</td>\n",
              "      <td>2880</td>\n",
              "      <td>17600</td>\n",
              "      <td>1760</td>\n",
              "      <td>4640</td>\n",
              "      <td>9172.5</td>\n",
              "      <td>1.287098e+08</td>\n",
              "      <td>4.720886e+26</td>\n",
              "      <td>10612.307713</td>\n",
              "      <td>900968600</td>\n",
              "      <td>1.352543</td>\n",
              "      <td>1.230013</td>\n",
              "      <td>0.4</td>\n",
              "      <td>0.350111</td>\n",
              "    </tr>\n",
              "    <tr>\n",
              "      <th>117</th>\n",
              "      <td>45</td>\n",
              "      <td>55</td>\n",
              "      <td>32000</td>\n",
              "      <td>14400</td>\n",
              "      <td>2880</td>\n",
              "      <td>17600</td>\n",
              "      <td>1760</td>\n",
              "      <td>4640</td>\n",
              "      <td>9172.5</td>\n",
              "      <td>1.287098e+08</td>\n",
              "      <td>4.720886e+26</td>\n",
              "      <td>10612.307713</td>\n",
              "      <td>900968600</td>\n",
              "      <td>1.352543</td>\n",
              "      <td>1.230013</td>\n",
              "      <td>0.3</td>\n",
              "      <td>0.856592</td>\n",
              "    </tr>\n",
              "  </tbody>\n",
              "</table>\n",
              "<p>100 rows × 17 columns</p>\n",
              "</div>"
            ],
            "text/plain": [
              "            5LC  10LC  particles  ...      kurt  Temperature    Target\n",
              "Unnamed: 0                        ...                                 \n",
              "0           100     0      32000  ... -0.240628          1.0  0.011573\n",
              "1           100     0      32000  ... -0.240628          0.9  0.012100\n",
              "2           100     0      32000  ... -0.240628          0.8  0.011733\n",
              "3           100     0      32000  ... -0.240628          0.7  0.011687\n",
              "4           100     0      32000  ... -0.240628          0.6  0.012401\n",
              "...         ...   ...        ...  ...       ...          ...       ...\n",
              "113          45    55      32000  ...  1.230013          0.7  0.020089\n",
              "114          45    55      32000  ...  1.230013          0.6  0.033490\n",
              "115          45    55      32000  ...  1.230013          0.5  0.038378\n",
              "116          45    55      32000  ...  1.230013          0.4  0.350111\n",
              "117          45    55      32000  ...  1.230013          0.3  0.856592\n",
              "\n",
              "[100 rows x 17 columns]"
            ]
          },
          "metadata": {
            "tags": []
          },
          "execution_count": 273
        }
      ]
    },
    {
      "cell_type": "code",
      "metadata": {
        "id": "3GwzdPakHwkB"
      },
      "source": [
        "parts = data['particles'].value_counts().index.sort_values()"
      ],
      "execution_count": 4,
      "outputs": []
    },
    {
      "cell_type": "code",
      "metadata": {
        "id": "cFIh3Vy2IU43",
        "outputId": "3dfe68f1-898c-4c75-cdb2-ca3646afafc4",
        "colab": {
          "base_uri": "https://localhost:8080/",
          "height": 34
        }
      },
      "source": [
        "parts"
      ],
      "execution_count": 5,
      "outputs": [
        {
          "output_type": "execute_result",
          "data": {
            "text/plain": [
              "Int64Index([16000, 24000, 32000], dtype='int64')"
            ]
          },
          "metadata": {
            "tags": []
          },
          "execution_count": 5
        }
      ]
    },
    {
      "cell_type": "code",
      "metadata": {
        "id": "XJ4NjscT7bnQ"
      },
      "source": [
        "key = data['5LC'].unique()"
      ],
      "execution_count": 6,
      "outputs": []
    },
    {
      "cell_type": "markdown",
      "metadata": {
        "id": "Xi4_3wFC36WE"
      },
      "source": [
        "### The fixed number of particles\n",
        "\n",
        "Temperature and % of 5LC are varaible."
      ]
    },
    {
      "cell_type": "code",
      "metadata": {
        "id": "1WROV-E5mGFH",
        "outputId": "a284b5d2-38be-4b9c-8f99-54337726336f",
        "colab": {
          "base_uri": "https://localhost:8080/",
          "height": 265
        }
      },
      "source": [
        "%matplotlib inline\n",
        "from mpl_toolkits.mplot3d import Axes3D\n",
        "x1 = np.array(data[data.particles == 32000]['5LC'])\n",
        "y1 = np.array(data[data.particles == 32000].Temperature)\n",
        "z1 = np.array(data[data.particles == 32000].Target)\n",
        "x2 = np.array(data[data.particles == 24000]['5LC'])\n",
        "y2 = np.array(data[data.particles == 24000].Temperature)\n",
        "z2 = np.array(data[data.particles == 24000].Target)\n",
        "x3 = np.array(data[data.particles == 16000]['5LC'])\n",
        "y3 = np.array(data[data.particles == 16000].Temperature)\n",
        "z3 = np.array(data[data.particles == 16000].Target)\n",
        "fig = plt.figure()\n",
        "ax = fig.add_subplot(111, projection='3d')\n",
        "ax.scatter(x1, y1, z1, label= '32 000',s = 1)\n",
        "ax.scatter(x2, y2, z2, label='24000', s = 1)\n",
        "ax.scatter(x3, y3, z3, label='16000', s = 1)\n",
        "ax.set_xlabel('5LC')\n",
        "ax.set_ylabel('T')\n",
        "ax.set_zlabel('S')\n",
        "ax.legend()\n"
      ],
      "execution_count": 8,
      "outputs": [
        {
          "output_type": "execute_result",
          "data": {
            "text/plain": [
              "<matplotlib.legend.Legend at 0x7f8b6632ddd8>"
            ]
          },
          "metadata": {
            "tags": []
          },
          "execution_count": 8
        },
        {
          "output_type": "display_data",
          "data": {
            "image/png": "[encoded data removed]",
            "text/plain": [
              "<Figure size 432x288 with 1 Axes>"
            ]
          },
          "metadata": {
            "tags": [],
            "needs_background": "light"
          }
        }
      ]
    },
    {
      "cell_type": "markdown",
      "metadata": {
        "id": "IlKi2q7T4So-"
      },
      "source": [
        "### The fixed Temperature (0.2, 0.7 and 1)\n",
        "\n",
        "The whole number of particles and % of 5LC are varaible.\n",
        "\n",
        "As we can see, for the high temperatures we really don't have the good order, but at the same time at low - we have."
      ]
    },
    {
      "cell_type": "code",
      "metadata": {
        "id": "uzrKM3Bdyzz2",
        "outputId": "e66fa05d-a63c-4c98-c8d8-b69ab034b5df",
        "colab": {
          "base_uri": "https://localhost:8080/",
          "height": 265
        }
      },
      "source": [
        "\n",
        "%matplotlib inline\n",
        "from mpl_toolkits.mplot3d import Axes3D\n",
        "x1 = np.array(data[data.Temperature == 1]['5LC'])\n",
        "y1 = np.array(data[data.Temperature == 1]['particles'])\n",
        "z1 = np.array(data[data.Temperature == 1]['Target'])\n",
        "x2 = np.array(data[data.Temperature == 0.2]['5LC'])\n",
        "y2 = np.array(data[data.Temperature == 0.2]['particles'])\n",
        "z2 = np.array(data[data.Temperature == 0.2]['Target'])\n",
        "x3 = np.array(data[data.Temperature == 0.7]['5LC'])\n",
        "y3 = np.array(data[data.Temperature == 0.7]['particles'])\n",
        "z3 = np.array(data[data.Temperature == 0.7]['Target'])\n",
        "x4 = np.array(data[data.Temperature == 0.3]['5LC'])\n",
        "y4 = np.array(data[data.Temperature == 0.3]['particles'])\n",
        "z4 = np.array(data[data.Temperature == 0.3]['Target'])\n",
        "\n",
        "fig = plt.figure()\n",
        "ax = fig.add_subplot(111, projection='3d')\n",
        "ax.scatter(x1, y1, z1, label= 'T = 1',s = 10)\n",
        "ax.scatter(x2, y2, z2, label='T = 0.2', s = 10)\n",
        "ax.scatter(x3, y3, z3, label='T = 0.7', s = 10)\n",
        "ax.scatter(x4, y4, z4, label='T = 0.7', s = 10)\n",
        "ax.set_xlabel('5LC')\n",
        "ax.set_ylabel('particles')\n",
        "ax.set_zlabel('S')\n",
        "ax.legend()"
      ],
      "execution_count": 9,
      "outputs": [
        {
          "output_type": "execute_result",
          "data": {
            "text/plain": [
              "<matplotlib.legend.Legend at 0x7f8b635d4ef0>"
            ]
          },
          "metadata": {
            "tags": []
          },
          "execution_count": 9
        },
        {
          "output_type": "display_data",
          "data": {
            "image/png": "[encoded data removed]",
            "text/plain": [
              "<Figure size 432x288 with 1 Axes>"
            ]
          },
          "metadata": {
            "tags": [],
            "needs_background": "light"
          }
        }
      ]
    },
    {
      "cell_type": "code",
      "metadata": {
        "id": "cNZ7KRx2rPVo"
      },
      "source": [
        "%matplotlib inline\n",
        "a = data.Temperature.value_counts().index\n",
        "\n",
        "for key in a:\n",
        "    data_s = data[data['Temperature'] == key]\n",
        "    x1 = np.array(data_s['5LC'])\n",
        "    y1 = np.array(data_s.particles)\n",
        "    z1 = np.array(data_s.Target)\n",
        "    ax = fig.add_subplot(111, projection='3d')\n",
        "    ax.scatter(x1, y1, z1, label='parametric curve')\n"
      ],
      "execution_count": 10,
      "outputs": []
    },
    {
      "cell_type": "markdown",
      "metadata": {
        "id": "qendLZuA5g8A"
      },
      "source": [
        "### Dependece of the S from T for different number of particles"
      ]
    },
    {
      "cell_type": "code",
      "metadata": {
        "id": "dI9C1cshLKna",
        "outputId": "1b472329-b949-43c0-f96f-994efc4d99cc",
        "colab": {
          "base_uri": "https://localhost:8080/",
          "height": 851
        }
      },
      "source": [
        "#fig, ax = plt.subplots(nrows=1, ncols=3,figsize=(4, 4), \\\n",
        "#                        sharey=True, sharex=True)\n",
        "x = []\n",
        "y = []\n",
        "key = np.arange(0,120,20)\n",
        "#plt.subplot(221)\n",
        "data_1 = data[data.particles == 32000]\n",
        "data_2 = data[data.particles == 24000]\n",
        "data_3 = data[data.particles == 16000]\n",
        "for i in key:\n",
        "  x = (data_1[data_1['5LC'] == i]['Temperature'])\n",
        "  y = (data_1[data_1['5LC'] == i]['Target'])\n",
        "  plt.plot(x,y, label = str(i)+'%' )\n",
        "  plt.scatter(x,y,s =25)\n",
        "plt.xlabel('T')\n",
        "plt.ylabel('S')\n",
        "plt.legend()\n",
        "plt.title('32 000 particles')\n",
        "plt.show()\n",
        "\n",
        "#plt.subplot(222)\n",
        "for i in key:\n",
        "  x = (data_2[data_2['5LC'] == i]['Temperature'])\n",
        "  y = (data_2[data_2['5LC'] == i]['Target'])\n",
        "  plt.plot(x,y, label = str(i)+'%' )\n",
        "  plt.scatter(x,y,s =25)\n",
        "plt.title('32 000 particles')\n",
        "plt.xlabel('T')\n",
        "plt.ylabel('S')\n",
        "plt.legend()\n",
        "plt.title('24 000 particles')\n",
        "plt.show()\n",
        "\n",
        "for i in key:\n",
        "  x = (data_3[data_3['5LC'] == i]['Temperature'])\n",
        "  y = (data_3[data_3['5LC'] == i]['Target'])\n",
        "  plt.plot(x,y, label = str(i)+'%' )\n",
        "  \n",
        "  plt.scatter(x,y,s =25)\n",
        "plt.title('16 000 particles')\n",
        "plt.xlabel('T')\n",
        "plt.ylabel('S')\n",
        "plt.legend()\n",
        "plt.show()"
      ],
      "execution_count": 13,
      "outputs": [
        {
          "output_type": "display_data",
          "data": {
            "image/png": "[encoded data removed]",
            "text/plain": [
              "<Figure size 432x288 with 1 Axes>"
            ]
          },
          "metadata": {
            "tags": [],
            "needs_background": "light"
          }
        },
        {
          "output_type": "display_data",
          "data": {
            "image/png": "[encoded data removed]",
            "text/plain": [
              "<Figure size 432x288 with 1 Axes>"
            ]
          },
          "metadata": {
            "tags": [],
            "needs_background": "light"
          }
        },
        {
          "output_type": "display_data",
          "data": {
            "image/png": "[encoded data removed]",
            "text/plain": [
              "<Figure size 432x288 with 1 Axes>"
            ]
          },
          "metadata": {
            "tags": [],
            "needs_background": "light"
          }
        }
      ]
    },
    {
      "cell_type": "markdown",
      "metadata": {
        "id": "D7sO31HwToNp"
      },
      "source": [
        "### Regression model"
      ]
    },
    {
      "cell_type": "markdown",
      "metadata": {
        "id": "4-K66-HUC4Ac"
      },
      "source": [
        "As the regression model - using Gradient Boosting Regressor for independent variables % of LC, whole number of particles and Temperature."
      ]
    },
    {
      "cell_type": "code",
      "metadata": {
        "id": "wUKP-ho7xW4Y"
      },
      "source": [
        "data_new = pd.DataFrame({'5LC': data['5LC'], 'Temperature': data['Temperature'], 'particles':data['particles']})\n",
        "Y = data.Target"
      ],
      "execution_count": 20,
      "outputs": []
    },
    {
      "cell_type": "code",
      "metadata": {
        "id": "HvWODlqzy-J5"
      },
      "source": [
        "from sklearn.preprocessing import MinMaxScaler\n",
        "scaler = MinMaxScaler()"
      ],
      "execution_count": 21,
      "outputs": []
    },
    {
      "cell_type": "code",
      "metadata": {
        "id": "Ut1Xajkmzwq0"
      },
      "source": [
        "a = np.array(data_new.Temperature).reshape(-1,1)\n",
        "scaler.fit(a)\n",
        "data_new['Temperature'] = scaler.transform(a)\n",
        "scaler.fit(np.array(data_new['5LC']).reshape(-1,1))\n",
        "data_new['5LC'] = scaler.transform(np.array(data_new['5LC']).reshape(-1,1))"
      ],
      "execution_count": 22,
      "outputs": []
    },
    {
      "cell_type": "code",
      "metadata": {
        "id": "SoF3zCOd5A0X",
        "outputId": "46d6769f-8393-442e-e463-9f44e62a0ddc",
        "colab": {
          "base_uri": "https://localhost:8080/",
          "height": 450
        }
      },
      "source": [
        "data_new"
      ],
      "execution_count": null,
      "outputs": [
        {
          "output_type": "execute_result",
          "data": {
            "text/html": [
              "<div>\n",
              "<style scoped>\n",
              "    .dataframe tbody tr th:only-of-type {\n",
              "        vertical-align: middle;\n",
              "    }\n",
              "\n",
              "    .dataframe tbody tr th {\n",
              "        vertical-align: top;\n",
              "    }\n",
              "\n",
              "    .dataframe thead th {\n",
              "        text-align: right;\n",
              "    }\n",
              "</style>\n",
              "<table border=\"1\" class=\"dataframe\">\n",
              "  <thead>\n",
              "    <tr style=\"text-align: right;\">\n",
              "      <th></th>\n",
              "      <th>5LC</th>\n",
              "      <th>Temperature</th>\n",
              "      <th>particles</th>\n",
              "    </tr>\n",
              "    <tr>\n",
              "      <th>Unnamed: 0</th>\n",
              "      <th></th>\n",
              "      <th></th>\n",
              "      <th></th>\n",
              "    </tr>\n",
              "  </thead>\n",
              "  <tbody>\n",
              "    <tr>\n",
              "      <th>0</th>\n",
              "      <td>1.0</td>\n",
              "      <td>1.000000</td>\n",
              "      <td>32000</td>\n",
              "    </tr>\n",
              "    <tr>\n",
              "      <th>1</th>\n",
              "      <td>1.0</td>\n",
              "      <td>0.888889</td>\n",
              "      <td>32000</td>\n",
              "    </tr>\n",
              "    <tr>\n",
              "      <th>2</th>\n",
              "      <td>1.0</td>\n",
              "      <td>0.777778</td>\n",
              "      <td>32000</td>\n",
              "    </tr>\n",
              "    <tr>\n",
              "      <th>3</th>\n",
              "      <td>1.0</td>\n",
              "      <td>0.666667</td>\n",
              "      <td>32000</td>\n",
              "    </tr>\n",
              "    <tr>\n",
              "      <th>4</th>\n",
              "      <td>1.0</td>\n",
              "      <td>0.555556</td>\n",
              "      <td>32000</td>\n",
              "    </tr>\n",
              "    <tr>\n",
              "      <th>...</th>\n",
              "      <td>...</td>\n",
              "      <td>...</td>\n",
              "      <td>...</td>\n",
              "    </tr>\n",
              "    <tr>\n",
              "      <th>624</th>\n",
              "      <td>0.0</td>\n",
              "      <td>0.555556</td>\n",
              "      <td>16000</td>\n",
              "    </tr>\n",
              "    <tr>\n",
              "      <th>626</th>\n",
              "      <td>0.0</td>\n",
              "      <td>0.333333</td>\n",
              "      <td>16000</td>\n",
              "    </tr>\n",
              "    <tr>\n",
              "      <th>627</th>\n",
              "      <td>0.0</td>\n",
              "      <td>0.222222</td>\n",
              "      <td>16000</td>\n",
              "    </tr>\n",
              "    <tr>\n",
              "      <th>628</th>\n",
              "      <td>0.0</td>\n",
              "      <td>0.111111</td>\n",
              "      <td>16000</td>\n",
              "    </tr>\n",
              "    <tr>\n",
              "      <th>629</th>\n",
              "      <td>0.0</td>\n",
              "      <td>0.000000</td>\n",
              "      <td>16000</td>\n",
              "    </tr>\n",
              "  </tbody>\n",
              "</table>\n",
              "<p>530 rows × 3 columns</p>\n",
              "</div>"
            ],
            "text/plain": [
              "            5LC  Temperature  particles\n",
              "Unnamed: 0                             \n",
              "0           1.0     1.000000      32000\n",
              "1           1.0     0.888889      32000\n",
              "2           1.0     0.777778      32000\n",
              "3           1.0     0.666667      32000\n",
              "4           1.0     0.555556      32000\n",
              "...         ...          ...        ...\n",
              "624         0.0     0.555556      16000\n",
              "626         0.0     0.333333      16000\n",
              "627         0.0     0.222222      16000\n",
              "628         0.0     0.111111      16000\n",
              "629         0.0     0.000000      16000\n",
              "\n",
              "[530 rows x 3 columns]"
            ]
          },
          "metadata": {
            "tags": []
          },
          "execution_count": 252
        }
      ]
    },
    {
      "cell_type": "code",
      "metadata": {
        "id": "c8HHy84l5Jif"
      },
      "source": [
        "from sklearn.model_selection import train_test_split"
      ],
      "execution_count": 23,
      "outputs": []
    },
    {
      "cell_type": "code",
      "metadata": {
        "id": "A-FWEMeP5F-a"
      },
      "source": [
        "X_train, X_test, y_train, y_test = train_test_split(data_new, Y, test_size=0.25, random_state = 42, shuffle = True)"
      ],
      "execution_count": 24,
      "outputs": []
    },
    {
      "cell_type": "code",
      "metadata": {
        "id": "cY__vx-5T7pG"
      },
      "source": [
        "from sklearn import ensemble \n",
        "from sklearn.model_selection import KFold, GridSearchCV\n",
        "from sklearn.ensemble import GradientBoostingRegressor"
      ],
      "execution_count": 25,
      "outputs": []
    },
    {
      "cell_type": "code",
      "metadata": {
        "id": "_J2a5mwzUBaU"
      },
      "source": [
        "gbt = GradientBoostingRegressor()"
      ],
      "execution_count": null,
      "outputs": []
    },
    {
      "cell_type": "code",
      "metadata": {
        "id": "DBwoxmGoUFvm"
      },
      "source": [
        "params_grid = {\n",
        "    'n_estimators': np.arange(25,200, 25),\n",
        "    'learning_rate': np.arange(0.1,1,0.2),\n",
        "    'max_depth': np.arange(3,15)\n",
        "}"
      ],
      "execution_count": null,
      "outputs": []
    },
    {
      "cell_type": "code",
      "metadata": {
        "id": "9f3g000XUW43"
      },
      "source": [
        "cv = KFold(n_splits = 5, shuffle = True, random_state = 42)"
      ],
      "execution_count": null,
      "outputs": []
    },
    {
      "cell_type": "code",
      "metadata": {
        "id": "qu2aQ6gcU5UQ"
      },
      "source": [
        "gs = GridSearchCV(gbt, param_grid = params_grid, cv = cv, n_jobs = -1, verbose = 1)"
      ],
      "execution_count": null,
      "outputs": []
    },
    {
      "cell_type": "code",
      "metadata": {
        "id": "BoxpcYraVI8D",
        "outputId": "5e899d05-18e6-478a-d844-b8f73f371e2b",
        "colab": {
          "base_uri": "https://localhost:8080/",
          "height": 510
        }
      },
      "source": [
        "gs.fit(X_train,y_train)"
      ],
      "execution_count": null,
      "outputs": [
        {
          "output_type": "stream",
          "text": [
            "Fitting 5 folds for each of 420 candidates, totalling 2100 fits\n"
          ],
          "name": "stdout"
        },
        {
          "output_type": "stream",
          "text": [
            "[Parallel(n_jobs=-1)]: Using backend LokyBackend with 2 concurrent workers.\n",
            "[Parallel(n_jobs=-1)]: Done  72 tasks      | elapsed:    3.7s\n",
            "[Parallel(n_jobs=-1)]: Done 372 tasks      | elapsed:   16.0s\n",
            "[Parallel(n_jobs=-1)]: Done 1060 tasks      | elapsed:   38.3s\n",
            "[Parallel(n_jobs=-1)]: Done 2100 out of 2100 | elapsed:  1.1min finished\n"
          ],
          "name": "stderr"
        },
        {
          "output_type": "execute_result",
          "data": {
            "text/plain": [
              "GridSearchCV(cv=KFold(n_splits=5, random_state=42, shuffle=True),\n",
              "             error_score=nan,\n",
              "             estimator=GradientBoostingRegressor(alpha=0.9, ccp_alpha=0.0,\n",
              "                                                 criterion='friedman_mse',\n",
              "                                                 init=None, learning_rate=0.1,\n",
              "                                                 loss='ls', max_depth=3,\n",
              "                                                 max_features=None,\n",
              "                                                 max_leaf_nodes=None,\n",
              "                                                 min_impurity_decrease=0.0,\n",
              "                                                 min_impurity_split=None,\n",
              "                                                 min_samples_leaf=1,\n",
              "                                                 min_samples_split=2,\n",
              "                                                 min_weigh...\n",
              "                                                 random_state=None,\n",
              "                                                 subsample=1.0, tol=0.0001,\n",
              "                                                 validation_fraction=0.1,\n",
              "                                                 verbose=0, warm_start=False),\n",
              "             iid='deprecated', n_jobs=-1,\n",
              "             param_grid={'learning_rate': array([0.1, 0.3, 0.5, 0.7, 0.9]),\n",
              "                         'max_depth': array([ 3,  4,  5,  6,  7,  8,  9, 10, 11, 12, 13, 14]),\n",
              "                         'n_estimators': array([ 25,  50,  75, 100, 125, 150, 175])},\n",
              "             pre_dispatch='2*n_jobs', refit=True, return_train_score=False,\n",
              "             scoring=None, verbose=1)"
            ]
          },
          "metadata": {
            "tags": []
          },
          "execution_count": 343
        }
      ]
    },
    {
      "cell_type": "code",
      "metadata": {
        "id": "c_nlkInUH7h9",
        "outputId": "c3394bdc-2157-494a-8d0f-8a6fab68e45e",
        "colab": {
          "base_uri": "https://localhost:8080/",
          "height": 34
        }
      },
      "source": [
        "gs.best_params_"
      ],
      "execution_count": null,
      "outputs": [
        {
          "output_type": "execute_result",
          "data": {
            "text/plain": [
              "{'learning_rate': 0.30000000000000004, 'max_depth': 4, 'n_estimators': 75}"
            ]
          },
          "metadata": {
            "tags": []
          },
          "execution_count": 344
        }
      ]
    },
    {
      "cell_type": "markdown",
      "metadata": {
        "id": "wAV17z6gH4JD"
      },
      "source": [
        "### The best parametrs for GBR:\n",
        "\n",
        "'learning_rate': 0.3\n",
        "\n",
        "'max_depth': 4\n",
        "\n",
        "'n_estimators': 75"
      ]
    },
    {
      "cell_type": "code",
      "metadata": {
        "id": "8_wZjZCRVh7t"
      },
      "source": [
        "y_pred_tr = gs.best_estimator_.predict(X_train)\n",
        "y_pred_test = gs.best_estimator_.predict(X_test)"
      ],
      "execution_count": null,
      "outputs": []
    },
    {
      "cell_type": "code",
      "metadata": {
        "id": "xfwRNTuhV0IE"
      },
      "source": [
        "from sklearn.metrics import r2_score as r2\n",
        "from sklearn.metrics import mean_squared_error as mse"
      ],
      "execution_count": null,
      "outputs": []
    },
    {
      "cell_type": "code",
      "metadata": {
        "id": "WiHYftYcV7D7",
        "outputId": "59163069-a4ea-4fea-b3dc-ee7a35aed5d8",
        "colab": {
          "base_uri": "https://localhost:8080/",
          "height": 51
        }
      },
      "source": [
        "print(r2(y_train, y_pred_tr))\n",
        "print(mse(y_train, y_pred_tr))"
      ],
      "execution_count": null,
      "outputs": [
        {
          "output_type": "stream",
          "text": [
            "0.9941159954574627\n",
            "0.0007798932289133846\n"
          ],
          "name": "stdout"
        }
      ]
    },
    {
      "cell_type": "code",
      "metadata": {
        "id": "70IzOYzKWHTp",
        "outputId": "62436fa6-3b7f-480a-cf66-3e71d51b8495",
        "colab": {
          "base_uri": "https://localhost:8080/",
          "height": 51
        }
      },
      "source": [
        "print(r2(y_test, y_pred_test))\n",
        "print(mse(y_test, y_pred_test))"
      ],
      "execution_count": null,
      "outputs": [
        {
          "output_type": "stream",
          "text": [
            "0.9842133357029409\n",
            "0.002630323131592229\n"
          ],
          "name": "stdout"
        }
      ]
    },
    {
      "cell_type": "markdown",
      "metadata": {
        "id": "MQ9-i8e3IXc3"
      },
      "source": [
        "### Score and MSE\n",
        "\n",
        "As the result we have results:\n",
        "\n",
        "#### TRAIN:\n",
        "\n",
        "MSE: 0.00077\n",
        "\n",
        "R2: 0.994\n",
        "\n",
        "#### TEST:\n",
        "\n",
        "MSE: 0.0026\n",
        "\n",
        "R2: 0.984"
      ]
    },
    {
      "cell_type": "markdown",
      "metadata": {
        "id": "KCHfLLa2JOav"
      },
      "source": [
        "### Real test data"
      ]
    },
    {
      "cell_type": "code",
      "metadata": {
        "id": "1ixY75oTJNkl",
        "outputId": "57a03b4d-9f5a-4569-a64f-eed985752ce2",
        "colab": {
          "base_uri": "https://localhost:8080/",
          "height": 487
        }
      },
      "source": [
        "data_test = pd.read_csv('liquid-crystal_pred.csv')\n",
        "data_test.set_index('Unnamed: 0')"
      ],
      "execution_count": 37,
      "outputs": [
        {
          "output_type": "execute_result",
          "data": {
            "text/html": [
              "<div>\n",
              "<style scoped>\n",
              "    .dataframe tbody tr th:only-of-type {\n",
              "        vertical-align: middle;\n",
              "    }\n",
              "\n",
              "    .dataframe tbody tr th {\n",
              "        vertical-align: top;\n",
              "    }\n",
              "\n",
              "    .dataframe thead th {\n",
              "        text-align: right;\n",
              "    }\n",
              "</style>\n",
              "<table border=\"1\" class=\"dataframe\">\n",
              "  <thead>\n",
              "    <tr style=\"text-align: right;\">\n",
              "      <th></th>\n",
              "      <th>5LC</th>\n",
              "      <th>10LC</th>\n",
              "      <th>particles</th>\n",
              "      <th>5LC_particle</th>\n",
              "      <th>5LC_molecule</th>\n",
              "      <th>10LC_particle</th>\n",
              "      <th>10LC_molecule</th>\n",
              "      <th>N_molecule</th>\n",
              "      <th>Average</th>\n",
              "      <th>Disperse</th>\n",
              "      <th>product</th>\n",
              "      <th>STDEVP</th>\n",
              "      <th>devsq</th>\n",
              "      <th>skew</th>\n",
              "      <th>kurt</th>\n",
              "      <th>Temperature</th>\n",
              "    </tr>\n",
              "    <tr>\n",
              "      <th>Unnamed: 0</th>\n",
              "      <th></th>\n",
              "      <th></th>\n",
              "      <th></th>\n",
              "      <th></th>\n",
              "      <th></th>\n",
              "      <th></th>\n",
              "      <th></th>\n",
              "      <th></th>\n",
              "      <th></th>\n",
              "      <th></th>\n",
              "      <th></th>\n",
              "      <th></th>\n",
              "      <th></th>\n",
              "      <th></th>\n",
              "      <th></th>\n",
              "      <th></th>\n",
              "    </tr>\n",
              "  </thead>\n",
              "  <tbody>\n",
              "    <tr>\n",
              "      <th>426</th>\n",
              "      <td>100</td>\n",
              "      <td>0</td>\n",
              "      <td>16000</td>\n",
              "      <td>16000</td>\n",
              "      <td>3200</td>\n",
              "      <td>0</td>\n",
              "      <td>0</td>\n",
              "      <td>3200</td>\n",
              "      <td>4812.5</td>\n",
              "      <td>4.960125e+07</td>\n",
              "      <td>0.000000e+00</td>\n",
              "      <td>6587.950649</td>\n",
              "      <td>347208750</td>\n",
              "      <td>1.283016</td>\n",
              "      <td>-0.239073</td>\n",
              "      <td>0.4</td>\n",
              "    </tr>\n",
              "    <tr>\n",
              "      <th>222</th>\n",
              "      <td>95</td>\n",
              "      <td>5</td>\n",
              "      <td>24000</td>\n",
              "      <td>22800</td>\n",
              "      <td>4560</td>\n",
              "      <td>1200</td>\n",
              "      <td>120</td>\n",
              "      <td>4680</td>\n",
              "      <td>7182.5</td>\n",
              "      <td>1.038990e+08</td>\n",
              "      <td>7.987537e+23</td>\n",
              "      <td>9534.758780</td>\n",
              "      <td>727293000</td>\n",
              "      <td>1.302117</td>\n",
              "      <td>-0.183062</td>\n",
              "      <td>0.8</td>\n",
              "    </tr>\n",
              "    <tr>\n",
              "      <th>351</th>\n",
              "      <td>30</td>\n",
              "      <td>70</td>\n",
              "      <td>24000</td>\n",
              "      <td>7200</td>\n",
              "      <td>1440</td>\n",
              "      <td>16800</td>\n",
              "      <td>1680</td>\n",
              "      <td>3120</td>\n",
              "      <td>6792.5</td>\n",
              "      <td>7.937311e+07</td>\n",
              "      <td>4.601492e+25</td>\n",
              "      <td>8333.754781</td>\n",
              "      <td>555611750</td>\n",
              "      <td>1.386619</td>\n",
              "      <td>0.733860</td>\n",
              "      <td>0.9</td>\n",
              "    </tr>\n",
              "    <tr>\n",
              "      <th>613</th>\n",
              "      <td>5</td>\n",
              "      <td>95</td>\n",
              "      <td>16000</td>\n",
              "      <td>800</td>\n",
              "      <td>160</td>\n",
              "      <td>15200</td>\n",
              "      <td>1520</td>\n",
              "      <td>1680</td>\n",
              "      <td>4432.5</td>\n",
              "      <td>4.795300e+07</td>\n",
              "      <td>3.775896e+22</td>\n",
              "      <td>6477.567059</td>\n",
              "      <td>335671000</td>\n",
              "      <td>1.408964</td>\n",
              "      <td>-0.021238</td>\n",
              "      <td>0.7</td>\n",
              "    </tr>\n",
              "    <tr>\n",
              "      <th>36</th>\n",
              "      <td>85</td>\n",
              "      <td>15</td>\n",
              "      <td>32000</td>\n",
              "      <td>27200</td>\n",
              "      <td>5440</td>\n",
              "      <td>4800</td>\n",
              "      <td>480</td>\n",
              "      <td>5920</td>\n",
              "      <td>9492.5</td>\n",
              "      <td>1.615568e+08</td>\n",
              "      <td>8.234404e+25</td>\n",
              "      <td>11889.582625</td>\n",
              "      <td>1130897400</td>\n",
              "      <td>1.328570</td>\n",
              "      <td>0.070182</td>\n",
              "      <td>0.4</td>\n",
              "    </tr>\n",
              "    <tr>\n",
              "      <th>...</th>\n",
              "      <td>...</td>\n",
              "      <td>...</td>\n",
              "      <td>...</td>\n",
              "      <td>...</td>\n",
              "      <td>...</td>\n",
              "      <td>...</td>\n",
              "      <td>...</td>\n",
              "      <td>...</td>\n",
              "      <td>...</td>\n",
              "      <td>...</td>\n",
              "      <td>...</td>\n",
              "      <td>...</td>\n",
              "      <td>...</td>\n",
              "      <td>...</td>\n",
              "      <td>...</td>\n",
              "      <td>...</td>\n",
              "    </tr>\n",
              "    <tr>\n",
              "      <th>397</th>\n",
              "      <td>10</td>\n",
              "      <td>90</td>\n",
              "      <td>24000</td>\n",
              "      <td>2400</td>\n",
              "      <td>480</td>\n",
              "      <td>21600</td>\n",
              "      <td>2160</td>\n",
              "      <td>2640</td>\n",
              "      <td>6672.5</td>\n",
              "      <td>1.005737e+08</td>\n",
              "      <td>3.064910e+24</td>\n",
              "      <td>9380.936454</td>\n",
              "      <td>704015750</td>\n",
              "      <td>1.411621</td>\n",
              "      <td>0.053155</td>\n",
              "      <td>0.3</td>\n",
              "    </tr>\n",
              "    <tr>\n",
              "      <th>107</th>\n",
              "      <td>50</td>\n",
              "      <td>50</td>\n",
              "      <td>32000</td>\n",
              "      <td>16000</td>\n",
              "      <td>3200</td>\n",
              "      <td>16000</td>\n",
              "      <td>1600</td>\n",
              "      <td>4800</td>\n",
              "      <td>9212.5</td>\n",
              "      <td>1.275548e+08</td>\n",
              "      <td>5.033165e+26</td>\n",
              "      <td>10564.585593</td>\n",
              "      <td>892883750</td>\n",
              "      <td>1.345393</td>\n",
              "      <td>1.274843</td>\n",
              "      <td>0.3</td>\n",
              "    </tr>\n",
              "    <tr>\n",
              "      <th>157</th>\n",
              "      <td>25</td>\n",
              "      <td>75</td>\n",
              "      <td>32000</td>\n",
              "      <td>8000</td>\n",
              "      <td>1600</td>\n",
              "      <td>24000</td>\n",
              "      <td>2400</td>\n",
              "      <td>4000</td>\n",
              "      <td>9012.5</td>\n",
              "      <td>1.483607e+08</td>\n",
              "      <td>1.769472e+26</td>\n",
              "      <td>11393.666004</td>\n",
              "      <td>1038525000</td>\n",
              "      <td>1.396669</td>\n",
              "      <td>0.523153</td>\n",
              "      <td>0.3</td>\n",
              "    </tr>\n",
              "    <tr>\n",
              "      <th>405</th>\n",
              "      <td>5</td>\n",
              "      <td>95</td>\n",
              "      <td>24000</td>\n",
              "      <td>1200</td>\n",
              "      <td>240</td>\n",
              "      <td>22800</td>\n",
              "      <td>2280</td>\n",
              "      <td>2520</td>\n",
              "      <td>6642.5</td>\n",
              "      <td>1.079876e+08</td>\n",
              "      <td>4.300981e+23</td>\n",
              "      <td>9720.551682</td>\n",
              "      <td>755913000</td>\n",
              "      <td>1.408456</td>\n",
              "      <td>-0.021931</td>\n",
              "      <td>0.5</td>\n",
              "    </tr>\n",
              "    <tr>\n",
              "      <th>417</th>\n",
              "      <td>0</td>\n",
              "      <td>100</td>\n",
              "      <td>24000</td>\n",
              "      <td>0</td>\n",
              "      <td>0</td>\n",
              "      <td>24000</td>\n",
              "      <td>2400</td>\n",
              "      <td>2400</td>\n",
              "      <td>6612.5</td>\n",
              "      <td>1.162470e+08</td>\n",
              "      <td>0.000000e+00</td>\n",
              "      <td>10085.439690</td>\n",
              "      <td>813728750</td>\n",
              "      <td>1.401234</td>\n",
              "      <td>-0.054882</td>\n",
              "      <td>0.3</td>\n",
              "    </tr>\n",
              "  </tbody>\n",
              "</table>\n",
              "<p>100 rows × 16 columns</p>\n",
              "</div>"
            ],
            "text/plain": [
              "            5LC  10LC  particles  ...      skew      kurt  Temperature\n",
              "Unnamed: 0                        ...                                 \n",
              "426         100     0      16000  ...  1.283016 -0.239073          0.4\n",
              "222          95     5      24000  ...  1.302117 -0.183062          0.8\n",
              "351          30    70      24000  ...  1.386619  0.733860          0.9\n",
              "613           5    95      16000  ...  1.408964 -0.021238          0.7\n",
              "36           85    15      32000  ...  1.328570  0.070182          0.4\n",
              "...         ...   ...        ...  ...       ...       ...          ...\n",
              "397          10    90      24000  ...  1.411621  0.053155          0.3\n",
              "107          50    50      32000  ...  1.345393  1.274843          0.3\n",
              "157          25    75      32000  ...  1.396669  0.523153          0.3\n",
              "405           5    95      24000  ...  1.408456 -0.021931          0.5\n",
              "417           0   100      24000  ...  1.401234 -0.054882          0.3\n",
              "\n",
              "[100 rows x 16 columns]"
            ]
          },
          "metadata": {
            "tags": []
          },
          "execution_count": 37
        }
      ]
    },
    {
      "cell_type": "code",
      "metadata": {
        "id": "CSPxGv5zJz4J"
      },
      "source": [
        "data_new_test = pd.DataFrame({'5LC': data_test['5LC'],'particles': data_test['particles'],'Temperature': data_test['Temperature'] })"
      ],
      "execution_count": 38,
      "outputs": []
    },
    {
      "cell_type": "code",
      "metadata": {
        "id": "qCDdF9zwgXfT",
        "outputId": "b2e4dbb0-bb22-434d-aae3-fa40930bab60",
        "colab": {
          "base_uri": "https://localhost:8080/",
          "height": 419
        }
      },
      "source": [
        "data_new_test"
      ],
      "execution_count": 39,
      "outputs": [
        {
          "output_type": "execute_result",
          "data": {
            "text/html": [
              "<div>\n",
              "<style scoped>\n",
              "    .dataframe tbody tr th:only-of-type {\n",
              "        vertical-align: middle;\n",
              "    }\n",
              "\n",
              "    .dataframe tbody tr th {\n",
              "        vertical-align: top;\n",
              "    }\n",
              "\n",
              "    .dataframe thead th {\n",
              "        text-align: right;\n",
              "    }\n",
              "</style>\n",
              "<table border=\"1\" class=\"dataframe\">\n",
              "  <thead>\n",
              "    <tr style=\"text-align: right;\">\n",
              "      <th></th>\n",
              "      <th>5LC</th>\n",
              "      <th>particles</th>\n",
              "      <th>Temperature</th>\n",
              "    </tr>\n",
              "  </thead>\n",
              "  <tbody>\n",
              "    <tr>\n",
              "      <th>0</th>\n",
              "      <td>100</td>\n",
              "      <td>16000</td>\n",
              "      <td>0.4</td>\n",
              "    </tr>\n",
              "    <tr>\n",
              "      <th>1</th>\n",
              "      <td>95</td>\n",
              "      <td>24000</td>\n",
              "      <td>0.8</td>\n",
              "    </tr>\n",
              "    <tr>\n",
              "      <th>2</th>\n",
              "      <td>30</td>\n",
              "      <td>24000</td>\n",
              "      <td>0.9</td>\n",
              "    </tr>\n",
              "    <tr>\n",
              "      <th>3</th>\n",
              "      <td>5</td>\n",
              "      <td>16000</td>\n",
              "      <td>0.7</td>\n",
              "    </tr>\n",
              "    <tr>\n",
              "      <th>4</th>\n",
              "      <td>85</td>\n",
              "      <td>32000</td>\n",
              "      <td>0.4</td>\n",
              "    </tr>\n",
              "    <tr>\n",
              "      <th>...</th>\n",
              "      <td>...</td>\n",
              "      <td>...</td>\n",
              "      <td>...</td>\n",
              "    </tr>\n",
              "    <tr>\n",
              "      <th>95</th>\n",
              "      <td>10</td>\n",
              "      <td>24000</td>\n",
              "      <td>0.3</td>\n",
              "    </tr>\n",
              "    <tr>\n",
              "      <th>96</th>\n",
              "      <td>50</td>\n",
              "      <td>32000</td>\n",
              "      <td>0.3</td>\n",
              "    </tr>\n",
              "    <tr>\n",
              "      <th>97</th>\n",
              "      <td>25</td>\n",
              "      <td>32000</td>\n",
              "      <td>0.3</td>\n",
              "    </tr>\n",
              "    <tr>\n",
              "      <th>98</th>\n",
              "      <td>5</td>\n",
              "      <td>24000</td>\n",
              "      <td>0.5</td>\n",
              "    </tr>\n",
              "    <tr>\n",
              "      <th>99</th>\n",
              "      <td>0</td>\n",
              "      <td>24000</td>\n",
              "      <td>0.3</td>\n",
              "    </tr>\n",
              "  </tbody>\n",
              "</table>\n",
              "<p>100 rows × 3 columns</p>\n",
              "</div>"
            ],
            "text/plain": [
              "    5LC  particles  Temperature\n",
              "0   100      16000          0.4\n",
              "1    95      24000          0.8\n",
              "2    30      24000          0.9\n",
              "3     5      16000          0.7\n",
              "4    85      32000          0.4\n",
              "..  ...        ...          ...\n",
              "95   10      24000          0.3\n",
              "96   50      32000          0.3\n",
              "97   25      32000          0.3\n",
              "98    5      24000          0.5\n",
              "99    0      24000          0.3\n",
              "\n",
              "[100 rows x 3 columns]"
            ]
          },
          "metadata": {
            "tags": []
          },
          "execution_count": 39
        }
      ]
    },
    {
      "cell_type": "code",
      "metadata": {
        "id": "Cm9oowMUJsIy"
      },
      "source": [
        "y_test_pred = gs.best_estimator_.predict(data_new_test)"
      ],
      "execution_count": null,
      "outputs": []
    },
    {
      "cell_type": "code",
      "metadata": {
        "id": "zGddBC2nKkQG"
      },
      "source": [
        "y_test_pred = pd.DataFrame(y_test_pred, columns = ['S'])"
      ],
      "execution_count": null,
      "outputs": []
    },
    {
      "cell_type": "code",
      "metadata": {
        "id": "rIMTq5sJKrIH",
        "outputId": "6b076a60-9077-4205-c0ff-ae625adbc1af",
        "colab": {
          "base_uri": "https://localhost:8080/",
          "height": 419
        }
      },
      "source": [
        "y_test_pred"
      ],
      "execution_count": null,
      "outputs": [
        {
          "output_type": "execute_result",
          "data": {
            "text/html": [
              "<div>\n",
              "<style scoped>\n",
              "    .dataframe tbody tr th:only-of-type {\n",
              "        vertical-align: middle;\n",
              "    }\n",
              "\n",
              "    .dataframe tbody tr th {\n",
              "        vertical-align: top;\n",
              "    }\n",
              "\n",
              "    .dataframe thead th {\n",
              "        text-align: right;\n",
              "    }\n",
              "</style>\n",
              "<table border=\"1\" class=\"dataframe\">\n",
              "  <thead>\n",
              "    <tr style=\"text-align: right;\">\n",
              "      <th></th>\n",
              "      <th>S</th>\n",
              "    </tr>\n",
              "  </thead>\n",
              "  <tbody>\n",
              "    <tr>\n",
              "      <th>0</th>\n",
              "      <td>0.017079</td>\n",
              "    </tr>\n",
              "    <tr>\n",
              "      <th>1</th>\n",
              "      <td>0.017079</td>\n",
              "    </tr>\n",
              "    <tr>\n",
              "      <th>2</th>\n",
              "      <td>0.017079</td>\n",
              "    </tr>\n",
              "    <tr>\n",
              "      <th>3</th>\n",
              "      <td>0.017079</td>\n",
              "    </tr>\n",
              "    <tr>\n",
              "      <th>4</th>\n",
              "      <td>0.017079</td>\n",
              "    </tr>\n",
              "    <tr>\n",
              "      <th>...</th>\n",
              "      <td>...</td>\n",
              "    </tr>\n",
              "    <tr>\n",
              "      <th>95</th>\n",
              "      <td>0.017079</td>\n",
              "    </tr>\n",
              "    <tr>\n",
              "      <th>96</th>\n",
              "      <td>0.017079</td>\n",
              "    </tr>\n",
              "    <tr>\n",
              "      <th>97</th>\n",
              "      <td>0.017079</td>\n",
              "    </tr>\n",
              "    <tr>\n",
              "      <th>98</th>\n",
              "      <td>0.017079</td>\n",
              "    </tr>\n",
              "    <tr>\n",
              "      <th>99</th>\n",
              "      <td>0.017127</td>\n",
              "    </tr>\n",
              "  </tbody>\n",
              "</table>\n",
              "<p>100 rows × 1 columns</p>\n",
              "</div>"
            ],
            "text/plain": [
              "           S\n",
              "0   0.017079\n",
              "1   0.017079\n",
              "2   0.017079\n",
              "3   0.017079\n",
              "4   0.017079\n",
              "..       ...\n",
              "95  0.017079\n",
              "96  0.017079\n",
              "97  0.017079\n",
              "98  0.017079\n",
              "99  0.017127\n",
              "\n",
              "[100 rows x 1 columns]"
            ]
          },
          "metadata": {
            "tags": []
          },
          "execution_count": 367
        }
      ]
    },
    {
      "cell_type": "code",
      "metadata": {
        "id": "RfRh7moCKdWE"
      },
      "source": [
        "y_test_pred.to_csv('predicted S (regression)')"
      ],
      "execution_count": null,
      "outputs": []
    },
    {
      "cell_type": "markdown",
      "metadata": {
        "id": "k4eauIBSXvT4"
      },
      "source": [
        "### Classification model"
      ]
    },
    {
      "cell_type": "code",
      "metadata": {
        "id": "Dq-LLVUQXzXi"
      },
      "source": [
        " from sklearn.ensemble import GradientBoostingClassifier"
      ],
      "execution_count": 14,
      "outputs": []
    },
    {
      "cell_type": "code",
      "metadata": {
        "id": "OOUoJbK7YDJx"
      },
      "source": [
        "classs = []\n",
        "y = np.array(Y)\n",
        "s_p = 0.5\n",
        "for i in range (data_new.shape[0]):\n",
        "  if y[i] > s_p:\n",
        "    classs.append(1)\n",
        "  else:\n",
        "    classs.append(0)\n",
        "Y_class = classs"
      ],
      "execution_count": 26,
      "outputs": []
    },
    {
      "cell_type": "code",
      "metadata": {
        "id": "GZUNg10AZtt6"
      },
      "source": [
        "X_train, X_test, y_train, y_test = train_test_split(data_new, Y_class, test_size=0.25, random_state = 42)"
      ],
      "execution_count": 27,
      "outputs": []
    },
    {
      "cell_type": "code",
      "metadata": {
        "id": "e3L99SbfZHf0"
      },
      "source": [
        "gbt_class = GradientBoostingClassifier()\n",
        "params_grid_class = {\n",
        "    'n_estimators': np.arange(25,200, 25),\n",
        "    'learning_rate': np.arange(0.1,1,0.2),\n",
        "    'max_depth': np.arange(3,15)\n",
        "}\n",
        "cv_c = KFold(n_splits = 5, shuffle = True, random_state = 42)\n",
        "gs_c = GridSearchCV(gbt_class, param_grid = params_grid_class, cv = cv_c, n_jobs = -1, verbose = 1)"
      ],
      "execution_count": 28,
      "outputs": []
    },
    {
      "cell_type": "markdown",
      "metadata": {
        "id": "Rtcl1XGBRHkS"
      },
      "source": [
        ""
      ]
    },
    {
      "cell_type": "code",
      "metadata": {
        "id": "u1FTd-OOZnda",
        "outputId": "5d39f2af-cf01-432d-ada6-b2e83087d87e",
        "colab": {
          "base_uri": "https://localhost:8080/",
          "height": 527
        }
      },
      "source": [
        "gs_c.fit(X_train,y_train)"
      ],
      "execution_count": 29,
      "outputs": [
        {
          "output_type": "stream",
          "text": [
            "Fitting 5 folds for each of 420 candidates, totalling 2100 fits\n"
          ],
          "name": "stdout"
        },
        {
          "output_type": "stream",
          "text": [
            "[Parallel(n_jobs=-1)]: Using backend LokyBackend with 2 concurrent workers.\n",
            "[Parallel(n_jobs=-1)]: Done  46 tasks      | elapsed:    4.2s\n",
            "[Parallel(n_jobs=-1)]: Done 346 tasks      | elapsed:   30.9s\n",
            "[Parallel(n_jobs=-1)]: Done 846 tasks      | elapsed:   59.9s\n",
            "[Parallel(n_jobs=-1)]: Done 1546 tasks      | elapsed:  1.5min\n",
            "[Parallel(n_jobs=-1)]: Done 2100 out of 2100 | elapsed:  1.9min finished\n"
          ],
          "name": "stderr"
        },
        {
          "output_type": "execute_result",
          "data": {
            "text/plain": [
              "GridSearchCV(cv=KFold(n_splits=5, random_state=42, shuffle=True),\n",
              "             error_score=nan,\n",
              "             estimator=GradientBoostingClassifier(ccp_alpha=0.0,\n",
              "                                                  criterion='friedman_mse',\n",
              "                                                  init=None, learning_rate=0.1,\n",
              "                                                  loss='deviance', max_depth=3,\n",
              "                                                  max_features=None,\n",
              "                                                  max_leaf_nodes=None,\n",
              "                                                  min_impurity_decrease=0.0,\n",
              "                                                  min_impurity_split=None,\n",
              "                                                  min_samples_leaf=1,\n",
              "                                                  min_samples_split=2,\n",
              "                                                  min_weight_f...\n",
              "                                                  random_state=None,\n",
              "                                                  subsample=1.0, tol=0.0001,\n",
              "                                                  validation_fraction=0.1,\n",
              "                                                  verbose=0, warm_start=False),\n",
              "             iid='deprecated', n_jobs=-1,\n",
              "             param_grid={'learning_rate': array([0.1, 0.3, 0.5, 0.7, 0.9]),\n",
              "                         'max_depth': array([ 3,  4,  5,  6,  7,  8,  9, 10, 11, 12, 13, 14]),\n",
              "                         'n_estimators': array([ 25,  50,  75, 100, 125, 150, 175])},\n",
              "             pre_dispatch='2*n_jobs', refit=True, return_train_score=False,\n",
              "             scoring=None, verbose=1)"
            ]
          },
          "metadata": {
            "tags": []
          },
          "execution_count": 29
        }
      ]
    },
    {
      "cell_type": "code",
      "metadata": {
        "id": "ZCVW2dFUMG_6",
        "outputId": "ecca55dd-3d88-4243-c91d-356e27777ece",
        "colab": {
          "base_uri": "https://localhost:8080/",
          "height": 34
        }
      },
      "source": [
        "gs_c.best_params_"
      ],
      "execution_count": 30,
      "outputs": [
        {
          "output_type": "execute_result",
          "data": {
            "text/plain": [
              "{'learning_rate': 0.7000000000000001, 'max_depth': 4, 'n_estimators': 25}"
            ]
          },
          "metadata": {
            "tags": []
          },
          "execution_count": 30
        }
      ]
    },
    {
      "cell_type": "markdown",
      "metadata": {
        "id": "vjP6qKZ6MJk6"
      },
      "source": [
        "### Best parametrs for the Gradient Boosting Classifier:\n",
        "\n",
        "'learning_rate': 0.7\n",
        "\n",
        "'max_depth': 4\n",
        "\n",
        "'n_estimators': 25"
      ]
    },
    {
      "cell_type": "code",
      "metadata": {
        "id": "oO-Z-31ufvC2"
      },
      "source": [
        "y_pred_tr = gs_c.best_estimator_.predict(X_train)\n",
        "y_pred_test = gs_c.best_estimator_.predict(X_test)"
      ],
      "execution_count": 31,
      "outputs": []
    },
    {
      "cell_type": "code",
      "metadata": {
        "id": "1CjZ91IEf3J6",
        "outputId": "fbe650bc-87f8-4e94-a6f7-1e16d5e2aff0",
        "colab": {
          "base_uri": "https://localhost:8080/",
          "height": 51
        }
      },
      "source": [
        "from sklearn.metrics import accuracy_score\n",
        "print(accuracy_score(y_train,y_pred_tr ))\n",
        "print(accuracy_score(y_test,y_pred_test))"
      ],
      "execution_count": 53,
      "outputs": [
        {
          "output_type": "stream",
          "text": [
            "1.0\n",
            "0.9774436090225563\n"
          ],
          "name": "stdout"
        }
      ]
    },
    {
      "cell_type": "code",
      "metadata": {
        "id": "l-xh2y75CBm7",
        "outputId": "fe864ebb-f3b6-485c-d8f0-5944213acec3",
        "colab": {
          "base_uri": "https://localhost:8080/",
          "height": 51
        }
      },
      "source": [
        "from sklearn.metrics import mean_squared_error as mse\n",
        "print(mse(y_train,y_pred_tr ))\n",
        "print(mse(y_test,y_pred_test))"
      ],
      "execution_count": 55,
      "outputs": [
        {
          "output_type": "stream",
          "text": [
            "0.0\n",
            "0.022556390977443608\n"
          ],
          "name": "stdout"
        }
      ]
    },
    {
      "cell_type": "markdown",
      "metadata": {
        "id": "qqJfJsGqBT_7"
      },
      "source": [
        "### Accuracy and MSE:\n",
        "\n",
        "As the result we have accuracy score about 0.97 and MSE = 0.023"
      ]
    },
    {
      "cell_type": "code",
      "metadata": {
        "id": "1KGZyOdNg421"
      },
      "source": [
        "y_t = np.array(y_t)"
      ],
      "execution_count": null,
      "outputs": []
    },
    {
      "cell_type": "code",
      "metadata": {
        "id": "G57dY6PAAR_Z",
        "outputId": "cf540727-a681-497a-a9f6-8a276ad55cb2",
        "colab": {
          "base_uri": "https://localhost:8080/",
          "height": 419
        }
      },
      "source": [
        "data_new_test"
      ],
      "execution_count": 42,
      "outputs": [
        {
          "output_type": "execute_result",
          "data": {
            "text/html": [
              "<div>\n",
              "<style scoped>\n",
              "    .dataframe tbody tr th:only-of-type {\n",
              "        vertical-align: middle;\n",
              "    }\n",
              "\n",
              "    .dataframe tbody tr th {\n",
              "        vertical-align: top;\n",
              "    }\n",
              "\n",
              "    .dataframe thead th {\n",
              "        text-align: right;\n",
              "    }\n",
              "</style>\n",
              "<table border=\"1\" class=\"dataframe\">\n",
              "  <thead>\n",
              "    <tr style=\"text-align: right;\">\n",
              "      <th></th>\n",
              "      <th>5LC</th>\n",
              "      <th>particles</th>\n",
              "      <th>Temperature</th>\n",
              "    </tr>\n",
              "  </thead>\n",
              "  <tbody>\n",
              "    <tr>\n",
              "      <th>0</th>\n",
              "      <td>100</td>\n",
              "      <td>16000</td>\n",
              "      <td>0.4</td>\n",
              "    </tr>\n",
              "    <tr>\n",
              "      <th>1</th>\n",
              "      <td>95</td>\n",
              "      <td>24000</td>\n",
              "      <td>0.8</td>\n",
              "    </tr>\n",
              "    <tr>\n",
              "      <th>2</th>\n",
              "      <td>30</td>\n",
              "      <td>24000</td>\n",
              "      <td>0.9</td>\n",
              "    </tr>\n",
              "    <tr>\n",
              "      <th>3</th>\n",
              "      <td>5</td>\n",
              "      <td>16000</td>\n",
              "      <td>0.7</td>\n",
              "    </tr>\n",
              "    <tr>\n",
              "      <th>4</th>\n",
              "      <td>85</td>\n",
              "      <td>32000</td>\n",
              "      <td>0.4</td>\n",
              "    </tr>\n",
              "    <tr>\n",
              "      <th>...</th>\n",
              "      <td>...</td>\n",
              "      <td>...</td>\n",
              "      <td>...</td>\n",
              "    </tr>\n",
              "    <tr>\n",
              "      <th>95</th>\n",
              "      <td>10</td>\n",
              "      <td>24000</td>\n",
              "      <td>0.3</td>\n",
              "    </tr>\n",
              "    <tr>\n",
              "      <th>96</th>\n",
              "      <td>50</td>\n",
              "      <td>32000</td>\n",
              "      <td>0.3</td>\n",
              "    </tr>\n",
              "    <tr>\n",
              "      <th>97</th>\n",
              "      <td>25</td>\n",
              "      <td>32000</td>\n",
              "      <td>0.3</td>\n",
              "    </tr>\n",
              "    <tr>\n",
              "      <th>98</th>\n",
              "      <td>5</td>\n",
              "      <td>24000</td>\n",
              "      <td>0.5</td>\n",
              "    </tr>\n",
              "    <tr>\n",
              "      <th>99</th>\n",
              "      <td>0</td>\n",
              "      <td>24000</td>\n",
              "      <td>0.3</td>\n",
              "    </tr>\n",
              "  </tbody>\n",
              "</table>\n",
              "<p>100 rows × 3 columns</p>\n",
              "</div>"
            ],
            "text/plain": [
              "    5LC  particles  Temperature\n",
              "0   100      16000          0.4\n",
              "1    95      24000          0.8\n",
              "2    30      24000          0.9\n",
              "3     5      16000          0.7\n",
              "4    85      32000          0.4\n",
              "..  ...        ...          ...\n",
              "95   10      24000          0.3\n",
              "96   50      32000          0.3\n",
              "97   25      32000          0.3\n",
              "98    5      24000          0.5\n",
              "99    0      24000          0.3\n",
              "\n",
              "[100 rows x 3 columns]"
            ]
          },
          "metadata": {
            "tags": []
          },
          "execution_count": 42
        }
      ]
    },
    {
      "cell_type": "code",
      "metadata": {
        "id": "8ix7vjQb_67k"
      },
      "source": [
        "y_pred = gs_c.best_estimator_.predict(data_new_test)"
      ],
      "execution_count": 43,
      "outputs": []
    },
    {
      "cell_type": "code",
      "metadata": {
        "id": "Cz1gSLR__xv2"
      },
      "source": [
        "data_new_test['predicted_s'] = y_pred"
      ],
      "execution_count": 48,
      "outputs": []
    },
    {
      "cell_type": "code",
      "metadata": {
        "id": "R91zA5jYNgwv",
        "outputId": "521b283a-7747-4a5d-b373-dff329a9f350",
        "colab": {
          "base_uri": "https://localhost:8080/",
          "height": 51
        }
      },
      "source": [
        "data_new_test['predicted_s'].value_counts()"
      ],
      "execution_count": 49,
      "outputs": [
        {
          "output_type": "execute_result",
          "data": {
            "text/plain": [
              "0    100\n",
              "Name: predicted_s, dtype: int64"
            ]
          },
          "metadata": {
            "tags": []
          },
          "execution_count": 49
        }
      ]
    },
    {
      "cell_type": "markdown",
      "metadata": {
        "id": "vIxtn1pYBmpl"
      },
      "source": [
        "Writing the results into a file."
      ]
    },
    {
      "cell_type": "code",
      "metadata": {
        "id": "pI4UtxKyM2ez"
      },
      "source": [
        "data_new_test.to_csv('predicted S (class)')"
      ],
      "execution_count": 50,
      "outputs": []
    }
  ]
}